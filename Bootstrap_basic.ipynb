{
 "cells": [
  {
   "cell_type": "code",
   "execution_count": null,
   "id": "19da6088-d468-4920-a9f3-43211e97e8a0",
   "metadata": {},
   "outputs": [],
   "source": [
    "# bootstrap\n",
    "from scipy.stats import bootstrap\n",
    "\n",
    "def boots(x, y): # x = climatology, y = composite\n",
    "    \n",
    "    ncols = len(x.lon)\n",
    "    nrows = len(x.lat)\n",
    "    #print(ncols, nrows)\n",
    "    \n",
    "    boots = xr.DataArray(data=np.zeros((nrows,ncols)), dims=[\"lat\",\"lon\"], coords=[x.lat, x.lon])\n",
    "    for j in range(nrows):\n",
    "        for k in range(ncols):\n",
    "            data = x.isel(lat=j,lon=k).values\n",
    "            #print(data)\n",
    "            if np.any(np.isnan(data)) or np.all((data==0)) or all(element == data[0] for element in data):\n",
    "                boots[j,k] = 1\n",
    "            else:\n",
    "                ci_l1, ci_u1 = bootstrap((data,), np.mean, confidence_level=0.9,\n",
    "                                         n_resamples=1000).confidence_interval\n",
    "                \n",
    "                data2 = y.isel(lat=j,lon=k).values\n",
    "                if ci_l1 < data2.mean() < ci_u1: #((data2.mean() > ci_l1) and (data2.mean() < ci_u1)):\n",
    "                    boots[j,k] = 0\n",
    "                else:\n",
    "                    boots[j,k] = 1 #use this for significance\n",
    "                \n",
    "    return boots"
   ]
  },
  {
   "cell_type": "code",
   "execution_count": null,
   "id": "8eadd30f-6b50-4681-9f8b-5bc2f7aafc40",
   "metadata": {},
   "outputs": [],
   "source": []
  }
 ],
 "metadata": {
  "kernelspec": {
   "display_name": "Python 3 (ipykernel)",
   "language": "python",
   "name": "python3"
  },
  "language_info": {
   "codemirror_mode": {
    "name": "ipython",
    "version": 3
   },
   "file_extension": ".py",
   "mimetype": "text/x-python",
   "name": "python",
   "nbconvert_exporter": "python",
   "pygments_lexer": "ipython3",
   "version": "3.9.12"
  }
 },
 "nbformat": 4,
 "nbformat_minor": 5
}
